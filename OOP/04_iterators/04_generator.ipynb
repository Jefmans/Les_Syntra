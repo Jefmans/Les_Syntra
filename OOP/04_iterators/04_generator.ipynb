{
 "cells": [
  {
   "cell_type": "code",
   "execution_count": 3,
   "metadata": {},
   "outputs": [
    {
     "name": "stdout",
     "output_type": "stream",
     "text": [
      "(0, 1)\n",
      "(2, 4)\n",
      "(1, 6)\n",
      "(1, 8)\n",
      "(2, 11)\n"
     ]
    }
   ],
   "source": [
    "class FindDist:\n",
    "    def __init__(self, string, char):\n",
    "        self.string = string\n",
    "        self.char = char\n",
    "        self.pos = 0\n",
    "    \n",
    "    def __iter__(self):\n",
    "        return self\n",
    "    \n",
    "    def __next__(self):\n",
    "        delta = 0\n",
    "        if self.pos == len(self.string):\n",
    "            raise StopIteration()\n",
    "        while self.string[self.pos] != self.char:\n",
    "            delta += 1\n",
    "            self.pos += 1\n",
    "        self.pos += 1\n",
    "        return delta, self.pos\n",
    "    \n",
    "for i in FindDist(\"abracadabra\", \"a\"):\n",
    "    print(i)\n"
   ]
  },
  {
   "cell_type": "code",
   "execution_count": 1,
   "metadata": {},
   "outputs": [
    {
     "name": "stdout",
     "output_type": "stream",
     "text": [
      "(1, 2)\n",
      "bla - non\n",
      "(2, 5)\n",
      "bla - non\n",
      "(1, 7)\n",
      "bla - non\n",
      "(1, 9)\n",
      "bla - non\n",
      "(2, 12)\n",
      "bla - non\n"
     ]
    }
   ],
   "source": [
    "def find_dist_yield(string, char):\n",
    "    delta = 0\n",
    "    pos = 0\n",
    "    for c in string:\n",
    "        pos += 1\n",
    "        if c == char:\n",
    "            yield delta, pos\n",
    "            yield \"bla - non\"\n",
    "            delta = 0\n",
    "        else:\n",
    "            delta += 1\n",
    "            \n",
    "\n",
    "for i in find_dist_yield(\"abracadabra\", 'a'):\n",
    "    print(i)"
   ]
  }
 ],
 "metadata": {
  "kernelspec": {
   "display_name": "venv",
   "language": "python",
   "name": "python3"
  },
  "language_info": {
   "codemirror_mode": {
    "name": "ipython",
    "version": 3
   },
   "file_extension": ".py",
   "mimetype": "text/x-python",
   "name": "python",
   "nbconvert_exporter": "python",
   "pygments_lexer": "ipython3",
   "version": "3.10.7"
  },
  "orig_nbformat": 4
 },
 "nbformat": 4,
 "nbformat_minor": 2
}
