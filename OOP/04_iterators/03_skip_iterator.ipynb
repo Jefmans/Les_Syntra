{
 "cells": [
  {
   "cell_type": "code",
   "execution_count": 1,
   "metadata": {},
   "outputs": [],
   "source": [
    "class SkipIterator:\n",
    "    def __init__(self, in_list):\n",
    "        self._inner = in_list.__iter__()\n",
    "\n",
    "    def __iter__(self):\n",
    "        return self\n",
    "    \n",
    "    def __next__(self):\n",
    "        x = self._inner.__next__()\n",
    "        self._inner.__next__()\n",
    "        return x"
   ]
  },
  {
   "cell_type": "code",
   "execution_count": 2,
   "metadata": {},
   "outputs": [
    {
     "name": "stdout",
     "output_type": "stream",
     "text": [
      "2\n",
      "4\n",
      "6\n",
      "8\n",
      "10\n"
     ]
    }
   ],
   "source": [
    "s = SkipIterator([1, 2, 3, 4, 5, 6, 7, 8, 9, 10])\n",
    "\n",
    "for x in s:\n",
    "    print(x)\n"
   ]
  },
  {
   "cell_type": "code",
   "execution_count": 3,
   "metadata": {},
   "outputs": [
    {
     "ename": "StopIteration",
     "evalue": "",
     "output_type": "error",
     "traceback": [
      "\u001b[1;31m---------------------------------------------------------------------------\u001b[0m",
      "\u001b[1;31mStopIteration\u001b[0m                             Traceback (most recent call last)",
      "\u001b[1;32mc:\\Users\\Echos Bv\\Desktop\\github_repos\\Les_Syntra\\OOP\\04_iterators\\03_skip_iterator.ipynb Cell 3\u001b[0m in \u001b[0;36m1\n\u001b[1;32m----> <a href='vscode-notebook-cell:/c%3A/Users/Echos%20Bv/Desktop/github_repos/Les_Syntra/OOP/04_iterators/03_skip_iterator.ipynb#W2sZmlsZQ%3D%3D?line=0'>1</a>\u001b[0m \u001b[39mprint\u001b[39m(\u001b[39mnext\u001b[39;49m(s))\n",
      "\u001b[1;32mc:\\Users\\Echos Bv\\Desktop\\github_repos\\Les_Syntra\\OOP\\04_iterators\\03_skip_iterator.ipynb Cell 3\u001b[0m in \u001b[0;36m1\n\u001b[0;32m      <a href='vscode-notebook-cell:/c%3A/Users/Echos%20Bv/Desktop/github_repos/Les_Syntra/OOP/04_iterators/03_skip_iterator.ipynb#W2sZmlsZQ%3D%3D?line=7'>8</a>\u001b[0m \u001b[39mdef\u001b[39;00m \u001b[39m__next__\u001b[39m(\u001b[39mself\u001b[39m):\n\u001b[1;32m---> <a href='vscode-notebook-cell:/c%3A/Users/Echos%20Bv/Desktop/github_repos/Les_Syntra/OOP/04_iterators/03_skip_iterator.ipynb#W2sZmlsZQ%3D%3D?line=9'>10</a>\u001b[0m     \u001b[39mself\u001b[39;49m\u001b[39m.\u001b[39;49m_inner\u001b[39m.\u001b[39;49m\u001b[39m__next__\u001b[39;49m()\n\u001b[0;32m     <a href='vscode-notebook-cell:/c%3A/Users/Echos%20Bv/Desktop/github_repos/Les_Syntra/OOP/04_iterators/03_skip_iterator.ipynb#W2sZmlsZQ%3D%3D?line=10'>11</a>\u001b[0m     x \u001b[39m=\u001b[39m \u001b[39mself\u001b[39m\u001b[39m.\u001b[39m_inner\u001b[39m.\u001b[39m\u001b[39m__next__\u001b[39m()\n\u001b[0;32m     <a href='vscode-notebook-cell:/c%3A/Users/Echos%20Bv/Desktop/github_repos/Les_Syntra/OOP/04_iterators/03_skip_iterator.ipynb#W2sZmlsZQ%3D%3D?line=11'>12</a>\u001b[0m     \u001b[39mreturn\u001b[39;00m x\n",
      "\u001b[1;31mStopIteration\u001b[0m: "
     ]
    }
   ],
   "source": [
    "print(next(s))"
   ]
  },
  {
   "attachments": {},
   "cell_type": "markdown",
   "metadata": {},
   "source": [
    "# oefening\n",
    "\n",
    "* Maak een iterator die de klassen Schap & Rek aanmaakt\n",
    "    * een schap heeft een nummer (1 - 5)\n",
    "    * een rek heeft een letter (A - D)\n",
    "    * Elk rek heeft 5 schappen(1-5)"
   ]
  },
  {
   "cell_type": "code",
   "execution_count": null,
   "metadata": {},
   "outputs": [],
   "source": [
    "class Rek:\n",
    "    def __init__(self, letter):\n",
    "        self.letter = letter\n",
    "        self.schappen = []\n",
    "\n",
    "    def add_schap(self, schap):\n",
    "        self.schappen.append(schap)\n",
    "\n",
    "    def __repr__(self) -> str:\n",
    "        return f\"Rek {self.letter}, schappen: {self.schappen}\"\n",
    "\n",
    "class Schap:\n",
    "    def __init__(self, rek, nummer):\n",
    "        self.rek = rek\n",
    "        self.nummer = nummer\n",
    "        self._add_to_rek()\n",
    "    \n",
    "    def _add_to_rek(self):\n",
    "        self.rek.add_schap(self)\n",
    "\n",
    "    def __repr__(self) -> str:\n",
    "        return f\"{self.rek.letter} - {self.nummer}\""
   ]
  },
  {
   "cell_type": "code",
   "execution_count": null,
   "metadata": {},
   "outputs": [],
   "source": [
    "class RekkenCreator:\n",
    "    def __init__(self, max_rek:str) -> None:\n",
    "        self.max_rek = max_rek\n",
    "\n",
    "    def __iter__(self):\n",
    "        self.rek = \"A\"\n",
    "        return self\n",
    "    \n",
    "    def __next__(self):\n",
    "        if self.rek <= self.max_rek:\n",
    "            rek = Rek(self.rek)\n",
    "            for i in range(1, 6):\n",
    "                schap = Schap(rek, i)\n",
    "            self.rek = chr(ord(self.rek) + 1)\n",
    "            return rek\n",
    "        else:\n",
    "            raise StopIteration()\n"
   ]
  },
  {
   "cell_type": "code",
   "execution_count": null,
   "metadata": {},
   "outputs": [
    {
     "name": "stdout",
     "output_type": "stream",
     "text": [
      "[Rek A, schappen: [A - 1, A - 2, A - 3, A - 4, A - 5], Rek B, schappen: [B - 1, B - 2, B - 3, B - 4, B - 5], Rek C, schappen: [C - 1, C - 2, C - 3, C - 4, C - 5], Rek D, schappen: [D - 1, D - 2, D - 3, D - 4, D - 5]]\n",
      "[A - 1, A - 2, A - 3, A - 4, A - 5]\n",
      "[B - 1, B - 2, B - 3, B - 4, B - 5]\n",
      "[C - 1, C - 2, C - 3, C - 4, C - 5]\n",
      "[D - 1, D - 2, D - 3, D - 4, D - 5]\n"
     ]
    }
   ],
   "source": [
    "schappen_vuller = RekkenCreator(\"D\")\n",
    "\n",
    "print(list(schappen_vuller))\n",
    "\n",
    "for rek in schappen_vuller:\n",
    "    print(rek.schappen)"
   ]
  },
  {
   "attachments": {},
   "cell_type": "markdown",
   "metadata": {},
   "source": [
    "[Rek A, schappen: [A - 1, A - 2, A - 3, A - 4, A - 5], Rek B, schappen: [B - 1, B - 2, B - 3, B - 4, B - 5], Rek C, schappen: [C - 1, C - 2, C - 3, C - 4, C - 5], Rek D, schappen: [D - 1, D - 2, D - 3, D - 4, D - 5]]\n",
    "Rek A, schappen: [A - 1, A - 2, A - 3, A - 4, A - 5]\n",
    "Rek B, schappen: [B - 1, B - 2, B - 3, B - 4, B - 5]\n",
    "Rek C, schappen: [C - 1, C - 2, C - 3, C - 4, C - 5]\n",
    "Rek D, schappen: [D - 1, D - 2, D - 3, D - 4, D - 5]"
   ]
  },
  {
   "cell_type": "code",
   "execution_count": null,
   "metadata": {},
   "outputs": [
    {
     "name": "stdout",
     "output_type": "stream",
     "text": [
      "97\n",
      "a\n"
     ]
    },
    {
     "data": {
      "text/plain": [
       "'b'"
      ]
     },
     "execution_count": 33,
     "metadata": {},
     "output_type": "execute_result"
    }
   ],
   "source": [
    "print(ord(\"a\"))\n",
    "print(chr(97))\n",
    "\n",
    "chr(ord(\"a\") + 1)"
   ]
  }
 ],
 "metadata": {
  "kernelspec": {
   "display_name": "venv",
   "language": "python",
   "name": "python3"
  },
  "language_info": {
   "codemirror_mode": {
    "name": "ipython",
    "version": 3
   },
   "file_extension": ".py",
   "mimetype": "text/x-python",
   "name": "python",
   "nbconvert_exporter": "python",
   "pygments_lexer": "ipython3",
   "version": "3.10.7"
  },
  "orig_nbformat": 4
 },
 "nbformat": 4,
 "nbformat_minor": 2
}
