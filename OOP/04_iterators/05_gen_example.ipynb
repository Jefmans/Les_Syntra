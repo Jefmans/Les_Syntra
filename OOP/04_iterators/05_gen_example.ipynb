{
 "cells": [
  {
   "attachments": {},
   "cell_type": "markdown",
   "metadata": {},
   "source": [
    "# Adds generator    "
   ]
  },
  {
   "cell_type": "code",
   "execution_count": 3,
   "metadata": {},
   "outputs": [
    {
     "name": "stdout",
     "output_type": "stream",
     "text": [
      "[1, 3, 5, 7, 9]\n"
     ]
    }
   ],
   "source": [
    "def get_odds_generator(max):\n",
    "\n",
    "    for i in range(1, max+1):\n",
    "        if i % 2 == 1:\n",
    "            yield i\n",
    "\n",
    "numbers = get_odds_generator(9)\n",
    "print(list(numbers))"
   ]
  },
  {
   "attachments": {},
   "cell_type": "markdown",
   "metadata": {},
   "source": [
    "# Rekkkenvuller"
   ]
  },
  {
   "cell_type": "code",
   "execution_count": 4,
   "metadata": {},
   "outputs": [],
   "source": [
    "class Rek:\n",
    "    def __init__(self, letter):\n",
    "        self.letter = letter\n",
    "        self.schappen = []\n",
    "\n",
    "    def add_schap(self, schap):\n",
    "        self.schappen.append(schap)\n",
    "\n",
    "    def __repr__(self) -> str:\n",
    "        return f\"Rek {self.letter}, schappen: {self.schappen}\"\n",
    "\n",
    "class Schap:\n",
    "    def __init__(self, rek, nummer):\n",
    "        self.rek = rek\n",
    "        self.nummer = nummer\n",
    "        self._add_to_rek()\n",
    "    \n",
    "    def _add_to_rek(self):\n",
    "        self.rek.add_schap(self)\n",
    "\n",
    "    def __repr__(self) -> str:\n",
    "        return f\"{self.rek.letter} - {self.nummer}\""
   ]
  },
  {
   "cell_type": "code",
   "execution_count": 12,
   "metadata": {},
   "outputs": [],
   "source": [
    "def create_rekken(max_rek):\n",
    "\n",
    "    for i in range(ord(\"A\"), ord(max_rek)+1):\n",
    "        rek = Rek(chr(i))\n",
    "        for a in range(1, 6):\n",
    "            schap = Schap(rek, a)\n",
    "        \n",
    "        yield rek"
   ]
  },
  {
   "cell_type": "code",
   "execution_count": 13,
   "metadata": {},
   "outputs": [
    {
     "name": "stdout",
     "output_type": "stream",
     "text": [
      "Rek A, schappen: [A - 1, A - 2, A - 3, A - 4, A - 5]\n",
      "Rek B, schappen: [B - 1, B - 2, B - 3, B - 4, B - 5]\n",
      "Rek C, schappen: [C - 1, C - 2, C - 3, C - 4, C - 5]\n",
      "Rek D, schappen: [D - 1, D - 2, D - 3, D - 4, D - 5]\n"
     ]
    }
   ],
   "source": [
    "rekken = create_rekken(\"D\")\n",
    "\n",
    "for rek in rekken:\n",
    "    print(rek)"
   ]
  },
  {
   "attachments": {},
   "cell_type": "markdown",
   "metadata": {},
   "source": [
    "# Fibonacci generator"
   ]
  },
  {
   "cell_type": "code",
   "execution_count": 19,
   "metadata": {},
   "outputs": [
    {
     "name": "stdout",
     "output_type": "stream",
     "text": [
      "{1, 2, 3, 34, 5, 8, 13, 21, 55}\n"
     ]
    }
   ],
   "source": [
    "def fibonacci_generator(n_th):\n",
    "\n",
    "    n1 = 1\n",
    "    n2 = 1\n",
    "    for i in range(1, n_th+1):\n",
    "        yield n1\n",
    "        n1, n2 = n2, n1 + n2\n",
    "\n",
    "print(set(fibonacci_generator(10)))"
   ]
  },
  {
   "cell_type": "code",
   "execution_count": 26,
   "metadata": {},
   "outputs": [
    {
     "name": "stdout",
     "output_type": "stream",
     "text": [
      "[1, 1, 2, 3, 5, 8, 13, 21, 34, 55]\n",
      "{1, 2, 3, 34, 5, 8, 13, 21, 55}\n"
     ]
    }
   ],
   "source": [
    "def fibonacci_generator(n_th_number):\n",
    "    counter = 0\n",
    "    n1=1\n",
    "    n2=1\n",
    "    while counter < n_th_number:\n",
    "        yield n1\n",
    "        n1, n2 = n2, n1 + n2\n",
    "        counter += 1\n",
    "    \n",
    "print(list(fibonacci_generator(10)))\n",
    "print(set(fibonacci_generator(10)))"
   ]
  },
  {
   "attachments": {},
   "cell_type": "markdown",
   "metadata": {},
   "source": [
    "# Macht van 2"
   ]
  },
  {
   "cell_type": "code",
   "execution_count": 31,
   "metadata": {},
   "outputs": [
    {
     "name": "stdout",
     "output_type": "stream",
     "text": [
      "[0, 1, 4, 9, 16, 25, 36, 49, 64, 81]\n"
     ]
    }
   ],
   "source": [
    "def machten(n):\n",
    "    for i in range(n):\n",
    "        yield(i * i)\n",
    "\n",
    "print(list(machten(10)))\n"
   ]
  },
  {
   "cell_type": "code",
   "execution_count": 32,
   "metadata": {},
   "outputs": [
    {
     "name": "stdout",
     "output_type": "stream",
     "text": [
      "0\n",
      "1\n",
      "4\n",
      "9\n",
      "16\n"
     ]
    }
   ],
   "source": [
    "class Squares:\n",
    "    def __init__(self, length):\n",
    "        self.length = length\n",
    "        self.current = 0\n",
    "\n",
    "    def __iter__(self):\n",
    "        return self\n",
    "\n",
    "    def __next__(self):\n",
    "        result = self.current ** 2\n",
    "\n",
    "        self.current += 1\n",
    "\n",
    "        if self.current > self.length:\n",
    "            raise StopIteration\n",
    "\n",
    "        return result\n",
    "    \n",
    "length = 5\n",
    "square = Squares(length)\n",
    "for s in square:\n",
    "    print(s)"
   ]
  },
  {
   "attachments": {},
   "cell_type": "markdown",
   "metadata": {},
   "source": [
    "# factors"
   ]
  },
  {
   "cell_type": "code",
   "execution_count": 38,
   "metadata": {},
   "outputs": [
    {
     "name": "stdout",
     "output_type": "stream",
     "text": [
      "[1, 2, 5, 10]\n"
     ]
    }
   ],
   "source": [
    "def factors(n):\n",
    "    for i in range(1, n+1):\n",
    "        if n % i == 0:\n",
    "            yield i\n",
    "\n",
    "print(list(factors(10)))"
   ]
  }
 ],
 "metadata": {
  "kernelspec": {
   "display_name": "venv",
   "language": "python",
   "name": "python3"
  },
  "language_info": {
   "codemirror_mode": {
    "name": "ipython",
    "version": 3
   },
   "file_extension": ".py",
   "mimetype": "text/x-python",
   "name": "python",
   "nbconvert_exporter": "python",
   "pygments_lexer": "ipython3",
   "version": "3.10.7"
  },
  "orig_nbformat": 4
 },
 "nbformat": 4,
 "nbformat_minor": 2
}
