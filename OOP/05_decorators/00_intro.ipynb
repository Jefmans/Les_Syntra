{
 "cells": [
  {
   "attachments": {},
   "cell_type": "markdown",
   "metadata": {},
   "source": [
    "# Wat is een decorator\n",
    "\n",
    "Decorators are used to wrap around another function to extend its functionality \n",
    "\n",
    "decorators are just functions that take another function as an argument \n",
    "\n",
    "## Opslaan van een variabele in een functie"
   ]
  },
  {
   "cell_type": "code",
   "execution_count": 6,
   "metadata": {},
   "outputs": [],
   "source": [
    "def greet(name):\n",
    "    return f\"Hi, {name}\"\n",
    "\n",
    "my_var = greet"
   ]
  },
  {
   "cell_type": "code",
   "execution_count": 6,
   "metadata": {},
   "outputs": [
    {
     "name": "stdout",
     "output_type": "stream",
     "text": [
      "Hi, Jos\n",
      "Hi, Jack\n"
     ]
    }
   ],
   "source": [
    "print(my_var('Jos'))\n",
    "print(my_var('Jack'))"
   ]
  },
  {
   "attachments": {},
   "cell_type": "markdown",
   "metadata": {},
   "source": [
    "## Een functie als argument"
   ]
  },
  {
   "cell_type": "code",
   "execution_count": 7,
   "metadata": {},
   "outputs": [],
   "source": [
    "from math import sqrt\n",
    "\n",
    "def sq_root(num):\n",
    "    return sqrt(num)\n",
    "\n",
    "def cube(num):\n",
    "    return num ** 3\n",
    "\n",
    "def meaningful_func(func, num, message):\n",
    "    res = func(num)\n",
    "    return f\"{message} of {num} is {res}\""
   ]
  },
  {
   "cell_type": "code",
   "execution_count": 9,
   "metadata": {},
   "outputs": [
    {
     "name": "stdout",
     "output_type": "stream",
     "text": [
      "square root of 20 is 4.47213595499958\n",
      "square root of 20 is 8000\n"
     ]
    }
   ],
   "source": [
    "print(meaningful_func(sq_root, 20, 'square root'))\n",
    "print(meaningful_func(cube, 20, 'square root'))"
   ]
  },
  {
   "attachments": {},
   "cell_type": "markdown",
   "metadata": {},
   "source": [
    "# Data bewaren in data structuren"
   ]
  },
  {
   "cell_type": "code",
   "execution_count": 11,
   "metadata": {},
   "outputs": [
    {
     "name": "stdout",
     "output_type": "stream",
     "text": [
      "True - 100\n"
     ]
    }
   ],
   "source": [
    "bool_list = [True, False]\n",
    "func1 = lambda x: x ** 2\n",
    "func2 = lambda x: x ** 3\n",
    "func_list = [func1, func2]\n",
    "\n",
    "my_dict = dict(zip(bool_list, func_list))\n",
    "\n",
    "num = 10\n",
    "\n",
    "for key, value in my_dict.items():\n",
    "    if key:\n",
    "        print(f\"{key} - {value(num)}\")\n",
    "\n"
   ]
  },
  {
   "cell_type": "code",
   "execution_count": 12,
   "metadata": {},
   "outputs": [
    {
     "name": "stdout",
     "output_type": "stream",
     "text": [
      "{True: <function <lambda> at 0x000001E5FCB15A20>, False: <function <lambda> at 0x000001E5FB03BE20>}\n"
     ]
    }
   ],
   "source": [
    "print(my_dict)"
   ]
  },
  {
   "cell_type": "code",
   "execution_count": 13,
   "metadata": {},
   "outputs": [
    {
     "name": "stdout",
     "output_type": "stream",
     "text": [
      "True - 100\n",
      "False - 1000\n"
     ]
    }
   ],
   "source": [
    "for key, value in my_dict.items():\n",
    "    print(f\"{key} - {value(num)}\")"
   ]
  },
  {
   "attachments": {},
   "cell_type": "markdown",
   "metadata": {},
   "source": [
    "# Args & Kwargs\n",
    "\n",
    "* & **"
   ]
  },
  {
   "cell_type": "code",
   "execution_count": 24,
   "metadata": {},
   "outputs": [
    {
     "name": "stdout",
     "output_type": "stream",
     "text": [
      "3\n"
     ]
    }
   ],
   "source": [
    "def add(a, b):\n",
    "    return a + b\n",
    "\n",
    "print(add(1, 2, 3))"
   ]
  },
  {
   "cell_type": "code",
   "execution_count": 16,
   "metadata": {},
   "outputs": [
    {
     "name": "stdout",
     "output_type": "stream",
     "text": [
      "6\n"
     ]
    }
   ],
   "source": [
    "def add(*args):\n",
    "    total = 0\n",
    "    for num in args:\n",
    "        total += num\n",
    "    return total\n",
    "\n",
    "print(add(1, 2, 3))"
   ]
  },
  {
   "cell_type": "code",
   "execution_count": 19,
   "metadata": {},
   "outputs": [
    {
     "name": "stdout",
     "output_type": "stream",
     "text": [
      "---------------\n",
      "Python is a predefined argument\n",
      "Non-keyword arguments:\n",
      "\t Java\n",
      "\t Julia\n",
      "\t C++\n",
      "None\n"
     ]
    }
   ],
   "source": [
    "def func(first_argument, *args):\n",
    "    if 'Java' in args:\n",
    "        print(\"---------------\")\n",
    "    print(f\"{first_argument} is a predefined argument\")\n",
    "    print(\"Non-keyword arguments:\")\n",
    "    for arg in args:\n",
    "        print('\\t', arg)\n",
    "\n",
    "print(func('Python', 'Java', 'Julia', 'C++'))"
   ]
  },
  {
   "attachments": {},
   "cell_type": "markdown",
   "metadata": {},
   "source": [
    "## **kwargs"
   ]
  },
  {
   "cell_type": "code",
   "execution_count": 22,
   "metadata": {},
   "outputs": [
    {
     "name": "stdout",
     "output_type": "stream",
     "text": [
      "{'argument1': 'Python', 'argument2': 'Java'}\n",
      "Python has been stored at argument1\n",
      "Java has been stored at argument2\n",
      "None\n"
     ]
    }
   ],
   "source": [
    "def func(**kwargs):\n",
    "    print(kwargs)\n",
    "    for key, value in kwargs.items():\n",
    "        print(f\"{value} has been stored at {key}\")\n",
    "\n",
    "print(func(argument1 = 'Python', argument2 = 'Java'))"
   ]
  },
  {
   "attachments": {},
   "cell_type": "markdown",
   "metadata": {},
   "source": [
    "`*args` & `**kwargs` samen "
   ]
  },
  {
   "cell_type": "code",
   "execution_count": 23,
   "metadata": {},
   "outputs": [
    {
     "name": "stdout",
     "output_type": "stream",
     "text": [
      "Non-keyword arguments\n",
      "\t 65\n",
      "\t 50\n",
      "Keyword arguments\n",
      "\t grade4: 95\n",
      "\t grade5: 110\n",
      "None\n"
     ]
    }
   ],
   "source": [
    "def func(*args, **kwargs):\n",
    "    print('Non-keyword arguments')\n",
    "    for arg in args:\n",
    "        print('\\t', arg)\n",
    "    print('Keyword arguments')\n",
    "    for key, value in kwargs.items():\n",
    "        print('\\t', f'{key}: {value}')\n",
    "\n",
    "print(func(65, 50, grade4 = 95, grade5 = 110))"
   ]
  }
 ],
 "metadata": {
  "kernelspec": {
   "display_name": "venv",
   "language": "python",
   "name": "python3"
  },
  "language_info": {
   "codemirror_mode": {
    "name": "ipython",
    "version": 3
   },
   "file_extension": ".py",
   "mimetype": "text/x-python",
   "name": "python",
   "nbconvert_exporter": "python",
   "pygments_lexer": "ipython3",
   "version": "3.10.7"
  },
  "orig_nbformat": 4
 },
 "nbformat": 4,
 "nbformat_minor": 2
}
