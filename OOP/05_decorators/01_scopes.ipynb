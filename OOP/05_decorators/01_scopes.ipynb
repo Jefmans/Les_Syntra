{
 "cells": [
  {
   "attachments": {},
   "cell_type": "markdown",
   "metadata": {},
   "source": [
    "# Scopes\n",
    "\n",
    "a Python scope determines where in your program a name is visible.\n",
    "A variable is only available from inside the region it is created. This is called scope.\n",
    "\n",
    "\n",
    "## global\n",
    "A variable created in the main body of the Python code is a global variable and belongs to the global scope.\n",
    "\n",
    "## local\n",
    "A variable created inside a function belongs to the local scope of that function, and can only be used inside that function."
   ]
  },
  {
   "attachments": {},
   "cell_type": "markdown",
   "metadata": {},
   "source": [
    "## variables, bindings and namespaces"
   ]
  },
  {
   "cell_type": "code",
   "execution_count": null,
   "metadata": {},
   "outputs": [],
   "source": [
    "my_var = 15"
   ]
  },
  {
   "attachments": {},
   "cell_type": "markdown",
   "metadata": {},
   "source": [
    "Bij de code hierboven maakt Python een object.\n",
    "En onze varaibele `my_var` verwijst naar dat object.\n",
    "\n",
    "We zeggen dat ons object `bound` (gebonden) is aan dat object.\n",
    "\n",
    "Een variabele bestaat binnen een deel van de code, dit noemen we dus de scope.\n",
    "\n",
    "Deze variabelen + object worden opgeslagen binnen een `namespace`.\n",
    "Elke scope heeft zijn eigen namespace.\n",
    "\n",
    "\n",
    "You can think of a namespace as a dictionary in which the keys are the object names and the values are the objects themselves."
   ]
  },
  {
   "attachments": {},
   "cell_type": "markdown",
   "metadata": {},
   "source": [
    "## Global Scopes\n",
    "\n",
    "De global scope is de file waarbinnen onze code staat. => module\n",
    "\n",
    "Een variabele die we binnen deze file aanmaken, kan overal binnen de file worden gebruikt. \n",
    "\n",
    "Waneer we binnen een project met meerdere files (modules) werken, zal elk van deze files zijn eigen global scope hebben."
   ]
  },
  {
   "attachments": {},
   "cell_type": "markdown",
   "metadata": {},
   "source": [
    "De uitzondering hierop zijn `built-in scope` bv."
   ]
  },
  {
   "cell_type": "code",
   "execution_count": null,
   "metadata": {},
   "outputs": [],
   "source": [
    "print(None)"
   ]
  },
  {
   "attachments": {},
   "cell_type": "markdown",
   "metadata": {},
   "source": [
    "zowel de functie `print` als `None` zijn gekend in de `built-in scope`.\n",
    "\n",
    "Hieronder linken we we de built-in name 'print' aan een nieuwe logica. Python zal eerst binnen de file kijken vooraleer naar de built-in scope te gaan."
   ]
  },
  {
   "cell_type": "code",
   "execution_count": null,
   "metadata": {},
   "outputs": [],
   "source": [
    "print = lambda x: f\"hello, {x}\"\n",
    "\n",
    "print('Kanan')"
   ]
  },
  {
   "cell_type": "code",
   "execution_count": null,
   "metadata": {},
   "outputs": [],
   "source": [
    "# print('Python', 'Java')"
   ]
  },
  {
   "cell_type": "code",
   "execution_count": null,
   "metadata": {},
   "outputs": [],
   "source": [
    "del print"
   ]
  },
  {
   "cell_type": "code",
   "execution_count": null,
   "metadata": {},
   "outputs": [],
   "source": [
    "print(dir(__builtins__))"
   ]
  },
  {
   "cell_type": "code",
   "execution_count": null,
   "metadata": {},
   "outputs": [],
   "source": [
    "'print' in dir(__builtins__)"
   ]
  },
  {
   "attachments": {},
   "cell_type": "markdown",
   "metadata": {},
   "source": [
    "## Scope of Loops\n",
    "\n",
    "Wanneer we een variabele maken binnen een loop, is deze dan global of local t.o.v. deze loop."
   ]
  },
  {
   "cell_type": "code",
   "execution_count": null,
   "metadata": {},
   "outputs": [],
   "source": [
    "for i in range(5):\n",
    "    a = 3\n",
    "print(a)\n",
    "\n",
    "print(i)"
   ]
  },
  {
   "attachments": {},
   "cell_type": "markdown",
   "metadata": {},
   "source": [
    "In Python hebben we geen speciale scope for loops.\n",
    "\n",
    "Alles binnen deze loop behoort tot de global van deze loop."
   ]
  },
  {
   "attachments": {},
   "cell_type": "markdown",
   "metadata": {},
   "source": [
    "## Local Scopes\n",
    "\n",
    "Wanneer we een functie maken, maken we ook een scope specifiek voor deze functie.\n",
    "\n",
    "Binnen de functie is er dus een locale scope.\n",
    "De variabelen binnen deze functie bestaan enkel binnen de functie zelf.\n",
    "\n",
    "Deze scope wordt gemaakt op het moment dat de functie wordt aangeroepen."
   ]
  },
  {
   "cell_type": "code",
   "execution_count": null,
   "metadata": {},
   "outputs": [],
   "source": [
    "def add(a, b):\n",
    "    c = a + b\n",
    "    return c"
   ]
  },
  {
   "attachments": {},
   "cell_type": "markdown",
   "metadata": {},
   "source": [
    "de variabelen ``a, b, c`` zijn lokale variabelen van de functie."
   ]
  },
  {
   "cell_type": "code",
   "execution_count": null,
   "metadata": {},
   "outputs": [],
   "source": [
    "add(2, 3)"
   ]
  },
  {
   "cell_type": "code",
   "execution_count": null,
   "metadata": {},
   "outputs": [],
   "source": [
    "print(c)"
   ]
  },
  {
   "attachments": {},
   "cell_type": "markdown",
   "metadata": {},
   "source": [
    "We zien dus dat c niet bestaat buiten de fucntie."
   ]
  },
  {
   "attachments": {},
   "cell_type": "markdown",
   "metadata": {},
   "source": [
    "## global variabele binnen een functie\n",
    "\n",
    "Variabelen buiten de functie kunnen binnen de functie gebruikt worden."
   ]
  },
  {
   "cell_type": "code",
   "execution_count": null,
   "metadata": {},
   "outputs": [],
   "source": [
    "a = 5\n",
    "\n",
    "def multiply_a(x):\n",
    "    return a * x\n",
    "\n",
    "print(multiply_a(4))"
   ]
  },
  {
   "attachments": {},
   "cell_type": "markdown",
   "metadata": {},
   "source": [
    "Wat gebeurt er als we de waarde van de globale variabele binnen de functie willen veranderen ?"
   ]
  },
  {
   "cell_type": "code",
   "execution_count": null,
   "metadata": {},
   "outputs": [],
   "source": [
    "a = 5\n",
    "b = 3\n",
    "\n",
    "def multiply_a(x):\n",
    "    b = a * x\n",
    "    return b\n",
    "\n",
    "print(multiply_a(4))"
   ]
  },
  {
   "attachments": {},
   "cell_type": "markdown",
   "metadata": {},
   "source": [
    "Wat met b?"
   ]
  },
  {
   "cell_type": "code",
   "execution_count": null,
   "metadata": {},
   "outputs": [],
   "source": [
    "print(b)"
   ]
  },
  {
   "attachments": {},
   "cell_type": "markdown",
   "metadata": {},
   "source": [
    "### Wat gebeurt er in de codes hierboven? \n",
    "\n",
    "b is een vraiabele die zowel in de global als in de lokale scope gedefinieerd worden (b = ....)\n",
    "\n",
    "Python werkt altijd van binnen naar buiten. Of van laag niveau naar hoog niveau.\n",
    "\n",
    "Het zal dus eerst kijken naar de variabelen binnen de functie. \n",
    "bij `a` zal Python eerst binnen de functie kijken en omdat deze daar niet gedefinieerd is, zal Python buiten de functie gaan kijken.\n",
    "bij `x` vindt Python deze lokaal als argument.\n",
    "\n",
    "bij `b` vindt Python deze ook lokaal als `b = a * x`. \n",
    "Python vindt `b` daarna ook buiten de functie, gedefinieerd als `b = 3`"
   ]
  },
  {
   "attachments": {},
   "cell_type": "markdown",
   "metadata": {},
   "source": [
    "Wat gebeurt er in de volgende code ?"
   ]
  },
  {
   "cell_type": "code",
   "execution_count": null,
   "metadata": {},
   "outputs": [],
   "source": [
    "a = 5\n",
    "b = 3\n",
    "\n",
    "def multiply_a(x):\n",
    "    b = b + a\n",
    "    return b\n",
    "\n",
    "print(multiply_a(4))"
   ]
  },
  {
   "attachments": {},
   "cell_type": "markdown",
   "metadata": {},
   "source": [
    "## global keyword\n",
    "\n",
    "Door middel van het `global` keyword kunnen we globale variabelen toch veranderen binnen een lokale scope."
   ]
  },
  {
   "cell_type": "code",
   "execution_count": null,
   "metadata": {},
   "outputs": [],
   "source": [
    "a = 5\n",
    "\n",
    "def func():\n",
    "    global a\n",
    "    a = 20\n",
    "\n",
    "func()\n",
    "print(a)"
   ]
  },
  {
   "attachments": {},
   "cell_type": "markdown",
   "metadata": {},
   "source": [
    "Wanneer Python deze functie aanroept, zal het voor de variabele `a` kijken naar de global scope.\n",
    "\n",
    "Zolang de functie niet wordt aangeroepen weet Python niet wat de waarde is binnen de functie.\n",
    "\n",
    "\n",
    "Wat gebeurd in de 3 voorbeelden hieronder ( 1 per 1)"
   ]
  },
  {
   "cell_type": "code",
   "execution_count": null,
   "metadata": {},
   "outputs": [],
   "source": [
    "a = 5\n",
    "b = 3\n",
    "\n",
    "def multiply_a(x):\n",
    "    global b\n",
    "    b = b + a \n",
    "    return b\n",
    "\n",
    "print(multiply_a(4))\n",
    "print(\"a:\", a, \" - \", \"b:\", b)"
   ]
  },
  {
   "cell_type": "code",
   "execution_count": null,
   "metadata": {},
   "outputs": [],
   "source": [
    "a = 5\n",
    "b = 3\n",
    "\n",
    "def multiply_a(x):\n",
    "    global b\n",
    "    print(a)\n",
    "    b = b + a \n",
    "    return b\n",
    "\n",
    "print(multiply_a(4))\n",
    "print(\"a:\", a, \" - \", \"b:\", b)"
   ]
  },
  {
   "cell_type": "code",
   "execution_count": null,
   "metadata": {},
   "outputs": [],
   "source": [
    "a = 5\n",
    "b = 3\n",
    "\n",
    "def multiply_a(x):\n",
    "    global b\n",
    "    print(a)\n",
    "    b = b + a \n",
    "    a = b + 2\n",
    "    return b\n",
    "\n",
    "print(multiply_a(4))\n",
    "print(\"a:\", a, \" - \", \"b:\", b)"
   ]
  },
  {
   "attachments": {},
   "cell_type": "markdown",
   "metadata": {},
   "source": [
    "In dit laatste voorbeeld zien we dus goed wat er gebeurd.\n",
    "\n",
    "Enkel wanneer we een variabele willen binden wordt deze in de lokale scope aangemaakt. En zal er dus niet naar de scope erbuiten worden gekeken.\n",
    "\n",
    "\n",
    "Eerst ziet Python `print(a)` en denkt dat a een globale variabele is.\n",
    "Daarna wanneer Python `a = b + 2` tegenkomt, moet a lokaal zijn. Dus bij de statement `print(a)` is a dus nog niet assigned / bound."
   ]
  },
  {
   "attachments": {},
   "cell_type": "markdown",
   "metadata": {},
   "source": [
    "## Nonlocal scopes\n",
    "\n",
    "We kunnen een functie maken in een andere functie.\n",
    "\n",
    "We maken dan een lokale scope in een andere scope. We hebben met andere woorden \"nested scopes\".\n",
    "\n",
    "De locale scope van de buitenste functie zal dus de lokale scope van de binnenste functie omvatten.\n",
    "\n",
    "We kunnen deze buitenste in feite zien als een globale scope voor de binnenste.\n",
    "\n",
    "We noemen deze echter niet globale scope => we noemen deze ``non local scope``"
   ]
  },
  {
   "cell_type": "code",
   "execution_count": null,
   "metadata": {},
   "outputs": [],
   "source": [
    "a = 10\n",
    "def outer():\n",
    "    def inner():\n",
    "        print(a)\n",
    "    inner()\n",
    "\n",
    "outer()"
   ]
  },
  {
   "attachments": {},
   "cell_type": "markdown",
   "metadata": {},
   "source": [
    "wat gebeurt hier? \n",
    "variabele a\n",
    "\n",
    "* Python kijkt binnen de scope van inner() en ziet hier geen assignment. De variabele a bestaat dus niet.\n",
    "* Python vindt ook in de scope van outer() de variabele a niet.\n",
    "* Dus uiteindelijk kijkt Python in de globale scope. Hier is a gedefinieerd. `a = 10`\n",
    "\n",
    "Dan zal print(a) dus worden uitgevoerd."
   ]
  },
  {
   "cell_type": "code",
   "execution_count": null,
   "metadata": {},
   "outputs": [],
   "source": [
    "a = 3\n",
    "\n",
    "def outer():\n",
    "    a = 10\n",
    "    def inner():\n",
    "        # a = 7\n",
    "        print(a)\n",
    "    inner()\n",
    "\n",
    "outer()"
   ]
  },
  {
   "attachments": {},
   "cell_type": "markdown",
   "metadata": {},
   "source": [
    "wat gebeurt hier? \n",
    "variabele a\n",
    "\n",
    "* Python kijkt binnen de scope van inner() en ziet hier geen assignment. De variabele a bestaat dus niet.\n",
    "* Python vindt de variabele a in de scope van outer(). Hier is a gedefinieerd. `a = 10`\n",
    "\n",
    "Dan zal print(a) dus worden uitgevoerd."
   ]
  },
  {
   "cell_type": "code",
   "execution_count": null,
   "metadata": {},
   "outputs": [],
   "source": [
    "a = 10\n",
    "\n",
    "def outer():\n",
    "    global a\n",
    "    a = 5\n",
    "    def inner():\n",
    "        print(a)\n",
    "        # a = 3\n",
    "    inner()\n",
    "\n",
    "outer()\n",
    "print(a)"
   ]
  },
  {
   "cell_type": "code",
   "execution_count": null,
   "metadata": {},
   "outputs": [],
   "source": [
    "a = 10\n",
    "\n",
    "def outer():\n",
    "    def inner():\n",
    "        global a\n",
    "        a = 3\n",
    "        print(a)\n",
    "    inner()\n",
    "    \n",
    "\n",
    "outer()\n",
    "print(a)"
   ]
  },
  {
   "cell_type": "code",
   "execution_count": null,
   "metadata": {},
   "outputs": [],
   "source": [
    "a = 10\n",
    "def outer():\n",
    "    global a\n",
    "    a = 5\n",
    "    print(a)\n",
    "    def inner():\n",
    "        print(a)\n",
    "        global a\n",
    "        a = 3\n",
    "        print(a)\n",
    "    inner()\n",
    "\n",
    "outer()\n",
    "print(a)"
   ]
  },
  {
   "cell_type": "code",
   "execution_count": null,
   "metadata": {},
   "outputs": [],
   "source": [
    "del a"
   ]
  },
  {
   "attachments": {},
   "cell_type": "markdown",
   "metadata": {},
   "source": [
    "Wat gebeurt er nu hieronder ?\n",
    "\n",
    "door het keywoord ``global`` aan te roepen maken van de variabele die niet globaal is gedefinieerd toch een globale variabele."
   ]
  },
  {
   "cell_type": "code",
   "execution_count": null,
   "metadata": {},
   "outputs": [],
   "source": [
    "# a =3\n",
    "def outer():\n",
    "    a = 10\n",
    "    def inner():\n",
    "        global a\n",
    "        # print(a)\n",
    "        a = 5\n",
    "        print(a)\n",
    "    inner()\n",
    "    print(a)\n",
    "\n",
    "outer()\n",
    "print(a)"
   ]
  },
  {
   "cell_type": "code",
   "execution_count": null,
   "metadata": {},
   "outputs": [],
   "source": [
    "del a"
   ]
  },
  {
   "cell_type": "code",
   "execution_count": null,
   "metadata": {},
   "outputs": [],
   "source": [
    "def outer():\n",
    "    a = 10\n",
    "    def inner():\n",
    "        a = 5\n",
    "        print(a)\n",
    "    inner()\n",
    "    print(a)\n",
    "\n",
    "outer()\n",
    "print(a)"
   ]
  },
  {
   "attachments": {},
   "cell_type": "markdown",
   "metadata": {},
   "source": [
    "Wat als we nu een variabele willen gebruiken (aanpassen) van de buitenste functie, zonder hier een globale variabele van te maken?\n",
    "\n",
    "hiervoor bestaat een speciaal keyword `nonlocal`"
   ]
  },
  {
   "cell_type": "code",
   "execution_count": null,
   "metadata": {},
   "outputs": [],
   "source": [
    "def outer():\n",
    "    a = 10\n",
    "    def inner():\n",
    "        nonlocal a\n",
    "        a = 5\n",
    "        print(a)\n",
    "    inner()\n",
    "    print(a)\n",
    "\n",
    "outer()\n",
    "print(a)"
   ]
  },
  {
   "attachments": {},
   "cell_type": "markdown",
   "metadata": {},
   "source": [
    "## Deep Nested Functions\n",
    "\n",
    "Wanneer we meer als 2 niveau's hebben van functies en dus ook scopes. \n",
    "\n",
    "de globale variabelen kunnen we overal aanspreken zonder probleem. (zoals hierboven gezien)\n",
    "\n",
    "Maar wat als we het `nonlocal` keywoord gebruiken?"
   ]
  },
  {
   "cell_type": "code",
   "execution_count": null,
   "metadata": {},
   "outputs": [],
   "source": [
    "a = 10\n",
    "\n",
    "def outer():\n",
    "    global a\n",
    "    a = 5\n",
    "    def inner_1():\n",
    "        def inner_2():\n",
    "            print(a)\n",
    "        inner_2()\n",
    "    inner_1()\n",
    "outer()\n",
    "print(a)"
   ]
  },
  {
   "cell_type": "code",
   "execution_count": null,
   "metadata": {},
   "outputs": [],
   "source": [
    "a = 10\n",
    "\n",
    "def outer():\n",
    "    def inner_1():\n",
    "        global a\n",
    "        a = 5\n",
    "        def inner_2():\n",
    "            print(a)\n",
    "        inner_2()\n",
    "    inner_1()\n",
    "outer()\n",
    "print(a)"
   ]
  },
  {
   "cell_type": "code",
   "execution_count": null,
   "metadata": {},
   "outputs": [],
   "source": [
    "a = 10\n",
    "\n",
    "def outer():\n",
    "    def inner_1():\n",
    "        def inner_2():\n",
    "            global a\n",
    "            a = 5\n",
    "            print(a)\n",
    "        inner_2()\n",
    "    inner_1()\n",
    "outer()\n",
    "print(a)"
   ]
  },
  {
   "cell_type": "code",
   "execution_count": 1,
   "metadata": {},
   "outputs": [
    {
     "name": "stdout",
     "output_type": "stream",
     "text": [
      "5\n",
      "10\n",
      "5\n"
     ]
    }
   ],
   "source": [
    "def outer():\n",
    "    a = 10\n",
    "    def inner_1():\n",
    "        global a\n",
    "        a = 5\n",
    "        def inner_2():\n",
    "            print(a)\n",
    "        inner_2()\n",
    "    inner_1()\n",
    "    print(a)\n",
    "outer()\n",
    "print(a)"
   ]
  },
  {
   "cell_type": "code",
   "execution_count": 2,
   "metadata": {},
   "outputs": [],
   "source": [
    "del a"
   ]
  },
  {
   "cell_type": "code",
   "execution_count": 3,
   "metadata": {},
   "outputs": [
    {
     "name": "stdout",
     "output_type": "stream",
     "text": [
      "5\n",
      "5\n"
     ]
    },
    {
     "ename": "NameError",
     "evalue": "name 'a' is not defined",
     "output_type": "error",
     "traceback": [
      "\u001b[1;31m---------------------------------------------------------------------------\u001b[0m",
      "\u001b[1;31mNameError\u001b[0m                                 Traceback (most recent call last)",
      "\u001b[1;32mc:\\Users\\Echos Bv\\Desktop\\github_repos\\Les_Syntra\\OOP\\05_decorators\\01_scopes.ipynb Cell 60\u001b[0m in \u001b[0;36m1\n\u001b[0;32m     <a href='vscode-notebook-cell:/c%3A/Users/Echos%20Bv/Desktop/github_repos/Les_Syntra/OOP/05_decorators/01_scopes.ipynb#Y113sZmlsZQ%3D%3D?line=9'>10</a>\u001b[0m     \u001b[39mprint\u001b[39m(a)\n\u001b[0;32m     <a href='vscode-notebook-cell:/c%3A/Users/Echos%20Bv/Desktop/github_repos/Les_Syntra/OOP/05_decorators/01_scopes.ipynb#Y113sZmlsZQ%3D%3D?line=10'>11</a>\u001b[0m outer()\n\u001b[1;32m---> <a href='vscode-notebook-cell:/c%3A/Users/Echos%20Bv/Desktop/github_repos/Les_Syntra/OOP/05_decorators/01_scopes.ipynb#Y113sZmlsZQ%3D%3D?line=11'>12</a>\u001b[0m \u001b[39mprint\u001b[39m(a)\n",
      "\u001b[1;31mNameError\u001b[0m: name 'a' is not defined"
     ]
    }
   ],
   "source": [
    "def outer():\n",
    "    a = 10\n",
    "    def inner_1():\n",
    "        nonlocal a\n",
    "        a = 5\n",
    "        def inner_2():\n",
    "            print(a)\n",
    "        inner_2()\n",
    "    inner_1()\n",
    "    print(a)\n",
    "outer()\n",
    "print(a)"
   ]
  },
  {
   "cell_type": "code",
   "execution_count": 4,
   "metadata": {},
   "outputs": [
    {
     "name": "stdout",
     "output_type": "stream",
     "text": [
      "5\n",
      "5\n"
     ]
    }
   ],
   "source": [
    "def outer():\n",
    "    a = 10\n",
    "    def inner_1():\n",
    "        def inner_2():\n",
    "            nonlocal a\n",
    "            a = 5\n",
    "            print(a)\n",
    "        inner_2()\n",
    "    inner_1()\n",
    "    print(a)\n",
    "outer()"
   ]
  },
  {
   "attachments": {},
   "cell_type": "markdown",
   "metadata": {},
   "source": [
    "Wat gebeurt hieronder?\n",
    "\n",
    "met het ``nonlocal`` keyword gaat Python wel binnen de verschillende hogere functies kijken.\n",
    "\n",
    "Maar dus niet in de global scope !!"
   ]
  },
  {
   "cell_type": "code",
   "execution_count": null,
   "metadata": {},
   "outputs": [],
   "source": [
    "a = 10\n",
    "\n",
    "def outer():\n",
    "    def inner_1():\n",
    "        def inner_2():\n",
    "            nonlocal a\n",
    "            a = 5\n",
    "            print(a)\n",
    "        inner_2()\n",
    "    inner_1()\n",
    "    print(a)\n",
    "outer()"
   ]
  },
  {
   "attachments": {},
   "cell_type": "markdown",
   "metadata": {},
   "source": [
    "Wat gebeurt hieronder?\n",
    "\n",
    "met het ``nonlocal`` keyword gaat Python wel binnen de verschillende hogere functies kijken. Wanneer Python echter een variabele vindt, gaat het niet nog hoger kijken.\n",
    "\n",
    "Maar dus niet in de global scope !!"
   ]
  },
  {
   "cell_type": "code",
   "execution_count": 5,
   "metadata": {},
   "outputs": [
    {
     "name": "stdout",
     "output_type": "stream",
     "text": [
      "inner_2: C++\n",
      "inner_1: C++\n",
      "outer: Python\n"
     ]
    }
   ],
   "source": [
    "def outer():\n",
    "    a = 'Python'\n",
    "    def inner_1():\n",
    "        a = 'Java'\n",
    "        def inner_2():\n",
    "            nonlocal a\n",
    "            a = 'C++'\n",
    "            print('inner_2:', a)\n",
    "        inner_2()\n",
    "        print('inner_1:', a)\n",
    "    inner_1()\n",
    "    print('outer:', a)\n",
    "outer()"
   ]
  },
  {
   "cell_type": "code",
   "execution_count": 6,
   "metadata": {},
   "outputs": [
    {
     "name": "stdout",
     "output_type": "stream",
     "text": [
      "inner_2: C++\n",
      "inner_1: C++\n",
      "outer: C++\n"
     ]
    }
   ],
   "source": [
    "def outer():\n",
    "    a = 'Python'\n",
    "    def inner_1():\n",
    "        # a = 'Java'\n",
    "        def inner_2():\n",
    "            nonlocal a\n",
    "            a = 'C++'\n",
    "            print('inner_2:', a)\n",
    "        inner_2()\n",
    "        print('inner_1:', a)\n",
    "    inner_1()\n",
    "    print('outer:', a)\n",
    "outer()"
   ]
  },
  {
   "cell_type": "code",
   "execution_count": 8,
   "metadata": {},
   "outputs": [
    {
     "name": "stdout",
     "output_type": "stream",
     "text": [
      "inner_2: C++\n",
      "inner_1: Java\n",
      "outer: Java\n"
     ]
    }
   ],
   "source": [
    "def outer():\n",
    "    a = 'Python'\n",
    "    def inner_1():\n",
    "        nonlocal a\n",
    "        a = 'Java'\n",
    "        def inner_2():\n",
    "            nonlocal a\n",
    "            a = 'C++'\n",
    "            print('inner_2:', a)\n",
    "        inner_2()\n",
    "        print('inner_1:', a)\n",
    "    inner_1()\n",
    "    print('outer:', a)\n",
    "outer()"
   ]
  },
  {
   "cell_type": "code",
   "execution_count": 9,
   "metadata": {},
   "outputs": [
    {
     "name": "stdout",
     "output_type": "stream",
     "text": [
      "inner_2: C++\n",
      "inner_1: Java\n",
      "outer: Java\n",
      "global: C++\n"
     ]
    }
   ],
   "source": [
    "a = 'Julia'\n",
    "\n",
    "def outer():\n",
    "    a = 'Python'\n",
    "    def inner_1():\n",
    "        nonlocal a\n",
    "        a = 'Java'\n",
    "        def inner_2():\n",
    "            global a\n",
    "            a = 'C++'\n",
    "            print('inner_2:', a)\n",
    "        inner_2()\n",
    "        print('inner_1:', a)\n",
    "    inner_1()\n",
    "    print('outer:', a)\n",
    "outer()\n",
    "print('global:', a)"
   ]
  }
 ],
 "metadata": {
  "kernelspec": {
   "display_name": "venv",
   "language": "python",
   "name": "python3"
  },
  "language_info": {
   "codemirror_mode": {
    "name": "ipython",
    "version": 3
   },
   "file_extension": ".py",
   "mimetype": "text/x-python",
   "name": "python",
   "nbconvert_exporter": "python",
   "pygments_lexer": "ipython3",
   "version": "3.10.7"
  },
  "orig_nbformat": 4
 },
 "nbformat": 4,
 "nbformat_minor": 2
}
