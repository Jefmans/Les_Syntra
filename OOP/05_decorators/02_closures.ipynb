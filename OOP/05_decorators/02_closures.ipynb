{
 "cells": [
  {
   "attachments": {},
   "cell_type": "markdown",
   "metadata": {},
   "source": [
    "# Closures\n",
    "\n",
    "Closure in Python is an inner function object, a function that behaves like an object, that remembers and has access to variables in the local scope in which it was created even after the outer function has finished executing. \n",
    "\n",
    "\n",
    "vanaf nu zullen we in plaats van de inner() functie aan te roepen in de outer() functie, de inner functie teruggeven."
   ]
  },
  {
   "cell_type": "code",
   "execution_count": null,
   "metadata": {},
   "outputs": [],
   "source": [
    "def outer():\n",
    "    a = 10\n",
    "\n",
    "    def inner(x):\n",
    "        print(a + x)\n",
    "    return inner\n",
    "\n",
    "func = outer()\n",
    "func(2)"
   ]
  },
  {
   "attachments": {},
   "cell_type": "markdown",
   "metadata": {},
   "source": [
    "Wat gebeurd er ?\n",
    "\n",
    "We binden de outer functie aan de variabele func door `func = outer()`. \n",
    "\n",
    "outer() returned inner => inner is dus aan func gebonden.\n",
    "\n",
    "Als we daarna \"()\" toevoegen aan func zal de functie worden uitgevoerd."
   ]
  },
  {
   "attachments": {},
   "cell_type": "markdown",
   "metadata": {},
   "source": [
    "## multi-scoped variables  en Python cell\n",
    "\n",
    "We herhalen hieronder de code van daarnet."
   ]
  },
  {
   "cell_type": "code",
   "execution_count": null,
   "metadata": {},
   "outputs": [],
   "source": [
    "def outer():\n",
    "    a = 10\n",
    "\n",
    "    def inner():\n",
    "        print(a)\n",
    "    return inner\n",
    "\n",
    "func = outer()\n",
    "func()"
   ]
  },
  {
   "attachments": {},
   "cell_type": "markdown",
   "metadata": {},
   "source": [
    "In deze code zien we dat `a` voorkomt in 2 verschillende scopes. We noemen `a` een \"multi-scoped\" variabele. We noemen dit een \"free variabele\".\n",
    "\n",
    "Python bewaart deze 'gedeelde' variabele in de inner-scope. Hierdoor kunnen we deze nog gebruiken zelfs nadat de outer functie is uitgevoerd.\n",
    "\n",
    "Python maakt een tussentijds object \"cell\" waarbij het memory address wordt bewaart van de variabele.\n",
    "\n",
    "De scopes bevatten een referentie van variabele `a` naar deze cell.\n",
    "\n",
    "In dit voorbeeld wordt zowel binnen de inner als outer scope een referentie naar dezelfde cell en memory address bijgehouden. Deze cell heeft op zijn beurt een referentie naar een \"integer object\" dat een memory address en een waarde (hier => 10) heeft.\n",
    "Eenmaal deze cell aangemaakt is, zelfs nadat de outer functie is uitgevoerd, zal \"cell\" beschikbaar blijven."
   ]
  },
  {
   "cell_type": "code",
   "execution_count": null,
   "metadata": {},
   "outputs": [],
   "source": [
    "def outer():\n",
    "    a = \"10\"\n",
    "    x = 3\n",
    "\n",
    "    def inner():\n",
    "        x = 5\n",
    "        print(a)\n",
    "    return inner\n",
    "\n",
    "func = outer()"
   ]
  },
  {
   "cell_type": "code",
   "execution_count": null,
   "metadata": {},
   "outputs": [],
   "source": [
    "func.__closure__"
   ]
  },
  {
   "cell_type": "code",
   "execution_count": null,
   "metadata": {},
   "outputs": [],
   "source": [
    "func.__code__.co_freevars"
   ]
  },
  {
   "cell_type": "code",
   "execution_count": 1,
   "metadata": {},
   "outputs": [
    {
     "name": "stdout",
     "output_type": "stream",
     "text": [
      "(<cell at 0x000001E78302DB70: str object at 0x000001E7FF243B70>, <cell at 0x000001E78302D720: int object at 0x000001E7FE340170>)\n",
      "('a', 'z')\n"
     ]
    }
   ],
   "source": [
    "def outer():\n",
    "    a = \"10\"\n",
    "    x = 3\n",
    "    z = 5\n",
    "    \n",
    "    def inner():\n",
    "        x = 5\n",
    "        print(a, z)\n",
    "    return inner\n",
    "\n",
    "func = outer()\n",
    "\n",
    "print(func.__closure__)\n",
    "print(func.__code__.co_freevars)"
   ]
  },
  {
   "attachments": {},
   "cell_type": "markdown",
   "metadata": {},
   "source": [
    "Wanneer een closure wordt aangemaakt, dan is er een referentie via de cell naar de free-variable.\n",
    "\n",
    "Ook al is dit een indirecte referentie, het memory address (id()) is dit van de \"value\" zelf."
   ]
  },
  {
   "cell_type": "code",
   "execution_count": 2,
   "metadata": {},
   "outputs": [
    {
     "name": "stdout",
     "output_type": "stream",
     "text": [
      "2095913894416\n",
      "2095913894416\n",
      "10\n"
     ]
    }
   ],
   "source": [
    "def outer():\n",
    "    a = 10\n",
    "    print(id(a))\n",
    "    \n",
    "    def inner():\n",
    "        print(id(a))\n",
    "        print(a)\n",
    "    return inner\n",
    "\n",
    "func = outer()\n",
    "func()"
   ]
  },
  {
   "attachments": {},
   "cell_type": "markdown",
   "metadata": {},
   "source": [
    "### multiple instances of the closures && shared extended scopes"
   ]
  },
  {
   "cell_type": "code",
   "execution_count": 4,
   "metadata": {},
   "outputs": [
    {
     "data": {
      "text/plain": [
       "1"
      ]
     },
     "execution_count": 4,
     "metadata": {},
     "output_type": "execute_result"
    }
   ],
   "source": [
    "def outer():\n",
    "    c = 0\n",
    "    \n",
    "    def counter():\n",
    "        nonlocal c\n",
    "        c += 1\n",
    "        return c\n",
    "    return counter\n",
    "\n",
    "func_1 = outer()\n",
    "func_1()"
   ]
  },
  {
   "cell_type": "code",
   "execution_count": 10,
   "metadata": {},
   "outputs": [
    {
     "data": {
      "text/plain": [
       "(<cell at 0x000001E7842C8340: int object at 0x000001E7FE340130>,)"
      ]
     },
     "execution_count": 10,
     "metadata": {},
     "output_type": "execute_result"
    }
   ],
   "source": [
    "func_1.__closure__"
   ]
  },
  {
   "cell_type": "code",
   "execution_count": 11,
   "metadata": {},
   "outputs": [
    {
     "data": {
      "text/plain": [
       "4"
      ]
     },
     "execution_count": 11,
     "metadata": {},
     "output_type": "execute_result"
    }
   ],
   "source": [
    "func_1()"
   ]
  },
  {
   "cell_type": "code",
   "execution_count": 5,
   "metadata": {},
   "outputs": [
    {
     "data": {
      "text/plain": [
       "('c',)"
      ]
     },
     "execution_count": 5,
     "metadata": {},
     "output_type": "execute_result"
    }
   ],
   "source": [
    "func_1.__code__.co_freevars"
   ]
  },
  {
   "cell_type": "code",
   "execution_count": 12,
   "metadata": {},
   "outputs": [
    {
     "name": "stdout",
     "output_type": "stream",
     "text": [
      "1\n",
      "2\n"
     ]
    }
   ],
   "source": [
    "func_2 = outer()\n",
    "print(func_2())\n",
    "print(func_2())"
   ]
  },
  {
   "attachments": {},
   "cell_type": "markdown",
   "metadata": {},
   "source": [
    "Wanneer we opnieuw de outer functie oproepen (func_2) starten we opnieuw van 0. \n",
    "\n",
    "Elke keer dat we de outer functie aanroepen maken we een nieuwe scope (nieuwe closure).\n",
    "\n",
    "Omdat deze scopes niet gedeeld worden, starten ze dus telkens opnieuw.\n",
    "\n",
    "Als we naar hun \"cell\" kijken, zien we dat deze verschillend zijn.\n",
    "\n",
    "We zien echter wel dat ze naar hetzelfde \"integer object\" verwijzen voor hun \"free variabele\""
   ]
  },
  {
   "cell_type": "code",
   "execution_count": 13,
   "metadata": {},
   "outputs": [
    {
     "name": "stdout",
     "output_type": "stream",
     "text": [
      "(<cell at 0x000001E7842C8340: int object at 0x000001E7FE340150>,)\n",
      "(<cell at 0x000001E7842C9810: int object at 0x000001E7FE340110>,)\n"
     ]
    }
   ],
   "source": [
    "print(func_1.__closure__)\n",
    "print(func_2.__closure__)"
   ]
  },
  {
   "cell_type": "code",
   "execution_count": 15,
   "metadata": {},
   "outputs": [
    {
     "name": "stdout",
     "output_type": "stream",
     "text": [
      "4\n",
      "(<cell at 0x000001E7842C8340: int object at 0x000001E7FE340150>,)\n",
      "(<cell at 0x000001E7842C9810: int object at 0x000001E7FE340150>,)\n"
     ]
    }
   ],
   "source": [
    "print(func_2())\n",
    "print(func_1.__closure__)\n",
    "print(func_2.__closure__)"
   ]
  },
  {
   "attachments": {},
   "cell_type": "markdown",
   "metadata": {},
   "source": [
    "Hier zien we dus dat func_2 naar een 'integer object' verwijst met een ander address.\n",
    "\n",
    "Dit is omdat we func_2 nogmaals hebben gerund. "
   ]
  },
  {
   "cell_type": "code",
   "execution_count": 16,
   "metadata": {},
   "outputs": [],
   "source": [
    "def outer():\n",
    "    c = 0\n",
    "    \n",
    "    def counter_1():\n",
    "        nonlocal c\n",
    "        c += 1\n",
    "        return c\n",
    "    def counter_2():\n",
    "        nonlocal c\n",
    "        c += 1\n",
    "        return c\n",
    "    \n",
    "    return counter_1, counter_2\n",
    "\n",
    "func_1, func_2 = outer()"
   ]
  },
  {
   "cell_type": "code",
   "execution_count": 17,
   "metadata": {},
   "outputs": [
    {
     "name": "stdout",
     "output_type": "stream",
     "text": [
      "(<cell at 0x000001E78300DDB0: int object at 0x000001E7FE3400D0>,)\n",
      "(<cell at 0x000001E78300DDB0: int object at 0x000001E7FE3400D0>,)\n"
     ]
    }
   ],
   "source": [
    "print(func_1.__closure__)\n",
    "print(func_2.__closure__)"
   ]
  },
  {
   "cell_type": "code",
   "execution_count": 18,
   "metadata": {},
   "outputs": [
    {
     "name": "stdout",
     "output_type": "stream",
     "text": [
      "1\n",
      "2\n",
      "3\n",
      "4\n"
     ]
    }
   ],
   "source": [
    "print(func_1())\n",
    "print(func_1())\n",
    "print(func_2())\n",
    "print(func_2())"
   ]
  },
  {
   "cell_type": "code",
   "execution_count": 19,
   "metadata": {},
   "outputs": [
    {
     "name": "stdout",
     "output_type": "stream",
     "text": [
      "(<cell at 0x000001E78300DDB0: int object at 0x000001E7FE340150>,)\n",
      "(<cell at 0x000001E78300DDB0: int object at 0x000001E7FE340150>,)\n"
     ]
    }
   ],
   "source": [
    "print(func_1.__closure__)\n",
    "print(func_2.__closure__)"
   ]
  },
  {
   "attachments": {},
   "cell_type": "markdown",
   "metadata": {},
   "source": [
    "Hier zien we dus dat func_1 en func_2 nog steeds naar dezelfde cell verwijzen en dus ook naar hetzelfde \"integer object\" address blijven verwijzen.\n",
    "\n",
    "Ook al hebben we func_1 al 2 kere gerund en func_2 nog niet."
   ]
  },
  {
   "attachments": {},
   "cell_type": "markdown",
   "metadata": {},
   "source": [
    "## Free variable as an argument"
   ]
  },
  {
   "cell_type": "code",
   "execution_count": 20,
   "metadata": {},
   "outputs": [
    {
     "name": "stdout",
     "output_type": "stream",
     "text": [
      "3\n",
      "('n',)\n"
     ]
    }
   ],
   "source": [
    "def outer(n):\n",
    "    def inner(x):\n",
    "        return n + x\n",
    "    return inner\n",
    "\n",
    "func_1 = outer(1)\n",
    "print(func_1(2))\n",
    "print(func_1.__code__.co_freevars)"
   ]
  },
  {
   "cell_type": "code",
   "execution_count": 21,
   "metadata": {},
   "outputs": [],
   "source": [
    "func_2 = outer(2)\n",
    "func_3 = outer(3)"
   ]
  },
  {
   "cell_type": "code",
   "execution_count": 22,
   "metadata": {},
   "outputs": [
    {
     "name": "stdout",
     "output_type": "stream",
     "text": [
      "6\n",
      "7\n",
      "8\n"
     ]
    }
   ],
   "source": [
    "print(func_1(5))\n",
    "print(func_2(5))\n",
    "print(func_3(5))"
   ]
  },
  {
   "attachments": {},
   "cell_type": "markdown",
   "metadata": {},
   "source": [
    "Als we meerder instanties willen aanmaken? \n",
    "\n",
    "Kunnen we dat niet met een for loop en lambda? "
   ]
  },
  {
   "cell_type": "code",
   "execution_count": 23,
   "metadata": {},
   "outputs": [],
   "source": [
    "ls = []\n",
    "\n",
    "for i in range(1, 9):\n",
    "    ls.append(lambda x: x + i)"
   ]
  },
  {
   "cell_type": "code",
   "execution_count": 25,
   "metadata": {},
   "outputs": [
    {
     "name": "stdout",
     "output_type": "stream",
     "text": [
      "[<function <lambda> at 0x000001E782F9B370>, <function <lambda> at 0x000001E784A6E050>, <function <lambda> at 0x000001E784A6D7E0>, <function <lambda> at 0x000001E784A6E680>, <function <lambda> at 0x000001E784A6E3B0>, <function <lambda> at 0x000001E784A6D6C0>, <function <lambda> at 0x000001E784A6E5F0>, <function <lambda> at 0x000001E784A6E710>]\n"
     ]
    }
   ],
   "source": [
    "print(ls)"
   ]
  },
  {
   "attachments": {},
   "cell_type": "markdown",
   "metadata": {},
   "source": [
    "onze lambda is zelf een closure. Omdat het een vrije variabele `i` heeft."
   ]
  },
  {
   "cell_type": "code",
   "execution_count": 26,
   "metadata": {},
   "outputs": [
    {
     "name": "stdout",
     "output_type": "stream",
     "text": [
      "13\n",
      "13\n",
      "13\n"
     ]
    }
   ],
   "source": [
    "print(ls[0](5))\n",
    "print(ls[1](5))\n",
    "print(ls[7](5))"
   ]
  },
  {
   "attachments": {},
   "cell_type": "markdown",
   "metadata": {},
   "source": [
    "Wat gebeurd er ?\n",
    "\n",
    "De lambda functie heeft een vrije variabele, namelijk `i`.\n",
    "\n",
    "deze refereert naar de het object \"loop variabele\". Bij elke interatie veranderd deze.\n",
    "\n",
    "omdat elke closure naar het zelfde object verwijst. deze krijgt de waarde \"8\" nadat alle iteraties doorlopen zijn.\n",
    "\n",
    "Als we daarna dus 5 meegeven, krijgen we 13 voor alle closures."
   ]
  },
  {
   "cell_type": "code",
   "execution_count": 29,
   "metadata": {},
   "outputs": [
    {
     "name": "stdout",
     "output_type": "stream",
     "text": [
      "0 - 5\n",
      "1 - 6\n",
      "2 - 7\n",
      "3 - 8\n",
      "4 - 9\n",
      "5 - 10\n",
      "6 - 11\n",
      "7 - 12\n"
     ]
    }
   ],
   "source": [
    "for i in range(len(ls)):\n",
    "    print(i,'-' , ls[i](5))\n",
    "    "
   ]
  },
  {
   "cell_type": "code",
   "execution_count": null,
   "metadata": {},
   "outputs": [],
   "source": [
    "def outer():\n",
    "    def inner():\n",
    "        print(1)\n",
    "    return inner\n",
    "\n",
    "func = outer()\n",
    "\n",
    "print(func())\n",
    "print(func.__code__.co_freevars)\n",
    "print(func.__closure__)"
   ]
  },
  {
   "cell_type": "code",
   "execution_count": 31,
   "metadata": {},
   "outputs": [
    {
     "name": "stdout",
     "output_type": "stream",
     "text": [
      "1\n",
      "None\n",
      "------------------\n",
      "()\n",
      "None\n"
     ]
    }
   ],
   "source": [
    "def outer():\n",
    "    a = 2\n",
    "    def inner():\n",
    "        print(1)\n",
    "    return inner\n",
    "\n",
    "func = outer()\n",
    "\n",
    "print(func())\n",
    "print(\"------------------\")\n",
    "print(func.__code__.co_freevars)\n",
    "print(func.__closure__)"
   ]
  },
  {
   "cell_type": "code",
   "execution_count": 34,
   "metadata": {},
   "outputs": [
    {
     "name": "stdout",
     "output_type": "stream",
     "text": [
      "2\n",
      "None\n",
      "('a',)\n",
      "(<cell at 0x000001E784253850: int object at 0x000001E7FE340110>,)\n"
     ]
    }
   ],
   "source": [
    "def outer():\n",
    "    a = 2\n",
    "    def inner():\n",
    "        print(a)\n",
    "    return inner\n",
    "\n",
    "func = outer()\n",
    "\n",
    "print(func())\n",
    "print(func.__code__.co_freevars)\n",
    "print(func.__closure__)"
   ]
  },
  {
   "attachments": {},
   "cell_type": "markdown",
   "metadata": {},
   "source": [
    "## Nested closures\n",
    "\n",
    "wanneer we nested scopes hebben. En elk van deze scopes hebben free variable, than hebben we nested closures."
   ]
  },
  {
   "cell_type": "code",
   "execution_count": 35,
   "metadata": {},
   "outputs": [],
   "source": [
    "def outer(n):\n",
    "    def inner_1(x):\n",
    "        current = x\n",
    "        def inner_2():\n",
    "            nonlocal current\n",
    "            current += n\n",
    "            return current\n",
    "        return inner_2\n",
    "    return inner_1\n",
    "\n",
    "func_1 = outer(10)  # => func_1 = inner_1 \n"
   ]
  },
  {
   "cell_type": "code",
   "execution_count": 36,
   "metadata": {},
   "outputs": [
    {
     "name": "stdout",
     "output_type": "stream",
     "text": [
      "('n',)\n"
     ]
    }
   ],
   "source": [
    "print(func_1.__code__.co_freevars)"
   ]
  },
  {
   "cell_type": "code",
   "execution_count": 37,
   "metadata": {},
   "outputs": [
    {
     "name": "stdout",
     "output_type": "stream",
     "text": [
      "('current', 'n')\n"
     ]
    }
   ],
   "source": [
    "func_2 = func_1(7)\n",
    "print(func_2.__code__.co_freevars)"
   ]
  },
  {
   "cell_type": "code",
   "execution_count": 39,
   "metadata": {},
   "outputs": [
    {
     "data": {
      "text/plain": [
       "27"
      ]
     },
     "execution_count": 39,
     "metadata": {},
     "output_type": "execute_result"
    }
   ],
   "source": [
    "func_2()"
   ]
  }
 ],
 "metadata": {
  "kernelspec": {
   "display_name": "venv",
   "language": "python",
   "name": "python3"
  },
  "language_info": {
   "codemirror_mode": {
    "name": "ipython",
    "version": 3
   },
   "file_extension": ".py",
   "mimetype": "text/x-python",
   "name": "python",
   "nbconvert_exporter": "python",
   "pygments_lexer": "ipython3",
   "version": "3.10.7"
  },
  "orig_nbformat": 4
 },
 "nbformat": 4,
 "nbformat_minor": 2
}
