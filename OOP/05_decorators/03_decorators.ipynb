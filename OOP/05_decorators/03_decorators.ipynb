{
 "cells": [
  {
   "attachments": {},
   "cell_type": "markdown",
   "metadata": {},
   "source": [
    "# Decorators\n",
    "\n",
    "Nu kunnen we het eindelijk over decorators hebben.\n",
    "\n",
    "Decorators zijn functies die een andere functie als argument gebruiken. \n",
    "\n",
    "Ze \"wrappen\" deze functie in een \"inner\" functie en laten hierdoor een aantal features toevoegen."
   ]
  },
  {
   "attachments": {},
   "cell_type": "markdown",
   "metadata": {},
   "source": [
    "Blueprint:"
   ]
  },
  {
   "cell_type": "code",
   "execution_count": null,
   "metadata": {},
   "outputs": [],
   "source": [
    "def decorator(func, optional_arguments):\n",
    "    def wrapper(*args, **kwargs):\n",
    "        # do something\n",
    "        return func(*args, **kwargs)\n",
    "    return wrapper"
   ]
  },
  {
   "cell_type": "code",
   "execution_count": 1,
   "metadata": {},
   "outputs": [],
   "source": [
    "def counter(func):\n",
    "    c = 0\n",
    "    def wrapper(*args, **kwargs):\n",
    "        nonlocal c\n",
    "        c += 1\n",
    "        print(f'{func.__name__} functie is {c} keer aangeroepen')\n",
    "        return  func(*args, **kwargs)\n",
    "    return wrapper"
   ]
  },
  {
   "attachments": {},
   "cell_type": "markdown",
   "metadata": {},
   "source": [
    "Nu maken we twee functies waarvoor we deze decorator gaan gebruiken"
   ]
  },
  {
   "cell_type": "code",
   "execution_count": 3,
   "metadata": {},
   "outputs": [],
   "source": [
    "def mult(a, b):\n",
    "    return a * b\n",
    "\n",
    "def add(a, b, c):\n",
    "    return a + b + c"
   ]
  },
  {
   "attachments": {},
   "cell_type": "markdown",
   "metadata": {},
   "source": [
    "De counter decorator gaat ons helpen om te weten hoeveel keer de bovenstaande functie zijn aangeroepen.\n",
    "\n",
    "Er zijn  2 manieren om een decorator te gebruiken bij een functie.\n",
    "\n",
    "De eerste is de functie als argument aan de decorator toevoegen.\n",
    "De tweede is gebruik van '@decorator' boven de functie."
   ]
  },
  {
   "attachments": {},
   "cell_type": "markdown",
   "metadata": {},
   "source": [
    "## Eerste manier"
   ]
  },
  {
   "cell_type": "code",
   "execution_count": 8,
   "metadata": {},
   "outputs": [
    {
     "name": "stdout",
     "output_type": "stream",
     "text": [
      "mult functie is 1 keer aangeroepen\n",
      "6\n"
     ]
    }
   ],
   "source": [
    "mult_decorated = counter(mult)\n",
    "\n",
    "print(mult_decorated(2, 3))"
   ]
  },
  {
   "cell_type": "code",
   "execution_count": 14,
   "metadata": {},
   "outputs": [],
   "source": [
    "def counter(func):\n",
    "    c = 0\n",
    "    def wrapper(*args, **kwargs):\n",
    "        nonlocal c\n",
    "        c += 1\n",
    "        print(f'{func.__name__} functie is {c} keer aangeroepen')\n",
    "        return  func(*args, **kwargs)\n",
    "    return wrapper"
   ]
  },
  {
   "cell_type": "code",
   "execution_count": 9,
   "metadata": {},
   "outputs": [
    {
     "name": "stdout",
     "output_type": "stream",
     "text": [
      "add functie is 1 keer aangeroepen\n",
      "6\n"
     ]
    }
   ],
   "source": [
    "add_decorated = counter(add)\n",
    "\n",
    "print(add_decorated(1, 2, 3))"
   ]
  },
  {
   "cell_type": "code",
   "execution_count": 10,
   "metadata": {},
   "outputs": [
    {
     "name": "stdout",
     "output_type": "stream",
     "text": [
      "(<cell at 0x000002392867F9D0: int object at 0x0000023923A100F0>, <cell at 0x000002392867D7B0: function object at 0x000002392869C3A0>)\n",
      "('c', 'func')\n"
     ]
    }
   ],
   "source": [
    "print(mult_decorated.__closure__)\n",
    "print(mult_decorated.__code__.co_freevars)\n"
   ]
  },
  {
   "attachments": {},
   "cell_type": "markdown",
   "metadata": {},
   "source": [
    "## De tweede manier"
   ]
  },
  {
   "cell_type": "code",
   "execution_count": 22,
   "metadata": {},
   "outputs": [],
   "source": [
    "@counter\n",
    "def mult_2(a, b):\n",
    "    return a * b\n",
    "\n",
    "@counter\n",
    "def add_2(a, b, c):\n",
    "    return a + b + c"
   ]
  },
  {
   "cell_type": "code",
   "execution_count": 26,
   "metadata": {},
   "outputs": [
    {
     "name": "stdout",
     "output_type": "stream",
     "text": [
      "add_2 functie is 4 keer aangeroepen\n",
      "10\n"
     ]
    }
   ],
   "source": [
    "print(add_2(1, 4, 5))"
   ]
  },
  {
   "attachments": {},
   "cell_type": "markdown",
   "metadata": {},
   "source": [
    "## Voorbeeld - een decorator om de \"runtime\" van een functie te meten\n",
    "\n",
    "We gaan een timer maken om een "
   ]
  },
  {
   "cell_type": "code",
   "execution_count": 34,
   "metadata": {},
   "outputs": [],
   "source": [
    "def timer(func):\n",
    "    from time import  perf_counter\n",
    "    def wrapper(*args, **kwargs):\n",
    "        start = perf_counter()\n",
    "        result = func(*args, **kwargs)\n",
    "        end = perf_counter()\n",
    "        print(f\"{func.__name__} functie had {end - start} seconden nodig\")\n",
    "        return result\n",
    "    return wrapper "
   ]
  },
  {
   "cell_type": "code",
   "execution_count": 35,
   "metadata": {},
   "outputs": [],
   "source": [
    "@timer\n",
    "def fib_rec(n):\n",
    "    if n <= 2:\n",
    "        return 1\n",
    "    return fib_rec(n-1) + fib_rec(n-2)"
   ]
  },
  {
   "cell_type": "code",
   "execution_count": 40,
   "metadata": {},
   "outputs": [
    {
     "name": "stdout",
     "output_type": "stream",
     "text": [
      "fib_rec functie had 1.100008375942707e-06 seconden nodig\n",
      "fib_rec functie had 7.00005330145359e-07 seconden nodig\n",
      "fib_rec functie had 0.0002162999880965799 seconden nodig\n",
      "fib_rec functie had 2.00001522898674e-07 seconden nodig\n",
      "fib_rec functie had 0.0002235999854747206 seconden nodig\n",
      "fib_rec functie had 2.00001522898674e-07 seconden nodig\n",
      "fib_rec functie had 2.00001522898674e-07 seconden nodig\n",
      "fib_rec functie had 6.299989763647318e-06 seconden nodig\n",
      "fib_rec functie had 0.00023669999791309237 seconden nodig\n",
      "5\n"
     ]
    }
   ],
   "source": [
    "print(fib_rec(5))"
   ]
  },
  {
   "attachments": {},
   "cell_type": "markdown",
   "metadata": {},
   "source": [
    "We zien hierboven dat de \"timer\" decorator telkens wordt aangeroepenn bij elke recursie. We willen echter het finale resultaat zien. \n",
    "\n",
    "daarom schrijven we een \"helper\" functie. \n",
    "\n"
   ]
  },
  {
   "cell_type": "code",
   "execution_count": 30,
   "metadata": {},
   "outputs": [],
   "source": [
    "def fib_rec(n):\n",
    "    if n <= 2:\n",
    "        return 1\n",
    "    return fib_rec(n-1) + fib_rec(n-2)"
   ]
  },
  {
   "cell_type": "code",
   "execution_count": 31,
   "metadata": {},
   "outputs": [],
   "source": [
    "@timer\n",
    "def fib_rec_helper(n):\n",
    "    return fib_rec(n)"
   ]
  },
  {
   "cell_type": "code",
   "execution_count": 32,
   "metadata": {},
   "outputs": [
    {
     "name": "stdout",
     "output_type": "stream",
     "text": [
      "fib_rec_helper functie had 2.1340757999860216 seconden nodig\n",
      "14930352\n"
     ]
    }
   ],
   "source": [
    "print(fib_rec_helper(36))"
   ]
  },
  {
   "attachments": {},
   "cell_type": "markdown",
   "metadata": {},
   "source": [
    "Fibonnaci zonder recursion"
   ]
  },
  {
   "cell_type": "code",
   "execution_count": 41,
   "metadata": {},
   "outputs": [
    {
     "name": "stdout",
     "output_type": "stream",
     "text": [
      "fib_loop functie had 6.700021913275123e-06 seconden nodig\n",
      "14930352\n"
     ]
    }
   ],
   "source": [
    "@timer\n",
    "def fib_loop(n):\n",
    "    prev = 1\n",
    "    curr = 1\n",
    "    for i in range(n-2):\n",
    "        prev, curr = curr, prev + curr      # prev = curr  --- curr = prev + curr\n",
    "    return curr\n",
    "\n",
    "print(fib_loop(36))"
   ]
  },
  {
   "attachments": {},
   "cell_type": "markdown",
   "metadata": {},
   "source": [
    "# counter"
   ]
  },
  {
   "cell_type": "code",
   "execution_count": 42,
   "metadata": {},
   "outputs": [],
   "source": [
    "def counter(func):\n",
    "    c = 0\n",
    "    def wrapper(*args, **kwargs):\n",
    "        nonlocal c\n",
    "        c += 1\n",
    "        print(f\"{func.__name__} is {c} keer aangeroepen\")\n",
    "        return func(*args, **kwargs)\n",
    "    return wrapper"
   ]
  },
  {
   "cell_type": "code",
   "execution_count": 49,
   "metadata": {},
   "outputs": [],
   "source": [
    "@counter\n",
    "def greet(name):\n",
    "    \"\"\"\n",
    "    This function greets people\n",
    "    \"\"\"\n",
    "    return f\"Hi, {name} !\""
   ]
  },
  {
   "cell_type": "code",
   "execution_count": 44,
   "metadata": {},
   "outputs": [
    {
     "name": "stdout",
     "output_type": "stream",
     "text": [
      "greet is 1 keer aangeroepen\n",
      "Hi, Joske !\n"
     ]
    }
   ],
   "source": [
    "print(greet(\"Joske\"))"
   ]
  },
  {
   "cell_type": "code",
   "execution_count": 45,
   "metadata": {},
   "outputs": [
    {
     "name": "stdout",
     "output_type": "stream",
     "text": [
      "greet is 2 keer aangeroepen\n",
      "Hi, Joske !\n"
     ]
    }
   ],
   "source": [
    "print(greet(\"Joske\"))"
   ]
  },
  {
   "cell_type": "code",
   "execution_count": 50,
   "metadata": {},
   "outputs": [
    {
     "name": "stdout",
     "output_type": "stream",
     "text": [
      "Help on function wrapper in module __main__:\n",
      "\n",
      "wrapper(*args, **kwargs)\n",
      "\n",
      "None\n"
     ]
    }
   ],
   "source": [
    "print(help(greet))"
   ]
  }
 ],
 "metadata": {
  "kernelspec": {
   "display_name": "venv",
   "language": "python",
   "name": "python3"
  },
  "language_info": {
   "codemirror_mode": {
    "name": "ipython",
    "version": 3
   },
   "file_extension": ".py",
   "mimetype": "text/x-python",
   "name": "python",
   "nbconvert_exporter": "python",
   "pygments_lexer": "ipython3",
   "version": "3.10.7"
  },
  "orig_nbformat": 4
 },
 "nbformat": 4,
 "nbformat_minor": 2
}
